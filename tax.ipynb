{
  "nbformat": 4,
  "nbformat_minor": 0,
  "metadata": {
    "colab": {
      "name": "tax",
      "provenance": [],
      "include_colab_link": true
    },
    "kernelspec": {
      "name": "python3",
      "display_name": "Python 3"
    },
    "language_info": {
      "name": "python"
    }
  },
  "cells": [
    {
      "cell_type": "markdown",
      "metadata": {
        "id": "view-in-github",
        "colab_type": "text"
      },
      "source": [
        "<a href=\"https://colab.research.google.com/github/vafiyanaznin/business-analytics-along-with-python/blob/main/tax.ipynb\" target=\"_parent\"><img src=\"https://colab.research.google.com/assets/colab-badge.svg\" alt=\"Open In Colab\"/></a>"
      ]
    },
    {
      "cell_type": "code",
      "execution_count": null,
      "metadata": {
        "colab": {
          "base_uri": "https://localhost:8080/"
        },
        "id": "z7wduKXASfg6",
        "outputId": "138fcdb9-7cfa-4c99-8008-5a975e35e372"
      },
      "outputs": [
        {
          "output_type": "stream",
          "name": "stdout",
          "text": [
            "enter the salary600000\n",
            "enter your house rent instalment40000\n",
            "enter your special rent8900\n",
            "enter your ta 6000\n",
            "17500.0\n",
            "22500.0\n"
          ]
        }
      ],
      "source": [
        "sal=int(input(\"enter the salary\"))\n",
        "hrl=int(input(\"enter your house rent instalment\"))\n",
        "spcl=int(input(\"enter your special rent\"))\n",
        "ta=(input(\"enter your ta \"))\n",
        "\n",
        "if sal<=250000:\n",
        "  print(\"no tax\")\n",
        "if sal>250000 &  sal<500000:\n",
        "  tax=(sal-250000)*5/100\n",
        "  print(tax)\n",
        "if sal>500000 & sal<600000:\n",
        "  tax=((sal-500000)*10/100)+(250000*5/100)\n",
        "  print(tax)\n",
        "\n"
      ]
    }
  ]
}